{
 "cells": [
  {
   "cell_type": "code",
   "execution_count": null,
   "metadata": {},
   "outputs": [],
   "source": [
    "# 定义二叉树的节点\n",
    "# class TreeNode(object):\n",
    "#     def __init__(self, val=0, left=None, right=None):\n",
    "#         self.val = val\n",
    "#         self.left = left\n",
    "#         self.right = right\n",
    "\n",
    "class Solution(object):\n",
    "    def inorderTraversal(self, root):\n",
    "        \"\"\"\n",
    "        :type root: TreeNode\n",
    "        :rtype: List[int]\n",
    "        \"\"\"\n",
    "        result = []\n",
    "        self.inorder_helper(root, result)\n",
    "        return result\n",
    "\n",
    "    def inorder_helper(self, node, result):\n",
    "        # 如果节点为空，直接返回\n",
    "        if not node:\n",
    "            return\n",
    "        \n",
    "        # 递归遍历左子树\n",
    "        self.inorder_helper(node.left, result)\n",
    "        # 访问当前节点\n",
    "        result.append(node.val)\n",
    "        # 递归遍历右子树\n",
    "        self.inorder_helper(node.right, result)\n",
    "sol=Solution()\n",
    "root =[1,2,3,4,5, ,8, , ,6,7,9]\n"
   ]
  }
 ],
 "metadata": {
  "language_info": {
   "name": "python"
  }
 },
 "nbformat": 4,
 "nbformat_minor": 2
}
