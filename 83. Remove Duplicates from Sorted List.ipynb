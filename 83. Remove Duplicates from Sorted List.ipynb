{
 "cells": [
  {
   "cell_type": "code",
   "execution_count": null,
   "metadata": {},
   "outputs": [],
   "source": [
    "# 定义单链表的节点结构\n",
    "class ListNode(object):\n",
    "    def __init__(self, val=0, next=None):\n",
    "        self.val = val\n",
    "        self.next = next\n",
    "\n",
    "class Solution(object):\n",
    "    def deleteDuplicates(self, head):\n",
    "        \"\"\"\n",
    "        :type head: ListNode\n",
    "        :rtype: ListNode\n",
    "        \"\"\"\n",
    "        # 如果链表为空或只有一个节点，直接返回原链表\n",
    "        if not head or not head.next:\n",
    "            return head\n",
    "        \n",
    "        current = head\n",
    "        # 遍历链表\n",
    "        while current and current.next:\n",
    "            if current.val == current.next.val:\n",
    "                # 如果当前节点的值等于下一个节点的值，跳过下一个节点\n",
    "                current.next = current.next.next\n",
    "            else:\n",
    "                # 否则，继续遍历下一个节点\n",
    "                current = current.next\n",
    "        \n",
    "        return head"
   ]
  }
 ],
 "metadata": {
  "language_info": {
   "name": "python"
  }
 },
 "nbformat": 4,
 "nbformat_minor": 2
}
