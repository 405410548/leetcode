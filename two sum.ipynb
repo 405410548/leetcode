{
 "cells": [
  {
   "cell_type": "code",
   "execution_count": 71,
   "metadata": {},
   "outputs": [
    {
     "name": "stdout",
     "output_type": "stream",
     "text": [
      "{2: 0}\n",
      "[0, 1]\n"
     ]
    }
   ],
   "source": [
    "class Solution:\n",
    "    def twoSum(self, nums, target):\n",
    "        num_dict = {}\n",
    "        \n",
    "        for i, num in enumerate(nums):\n",
    "            complement = target - num\n",
    "            if complement in num_dict:\n",
    "\n",
    "                return [num_dict[complement], i]\n",
    "            num_dict[num] = i\n",
    "            print(num_dict)\n",
    "        \n",
    "        return []  # No solution found\n",
    "solution = Solution()\n",
    "nums = [2, 7, 11, 15]\n",
    "target = 9\n",
    "print(solution.twoSum(nums, target))  # 输出: [0, 1]"
   ]
  },
  {
   "cell_type": "code",
   "execution_count": 59,
   "metadata": {},
   "outputs": [
    {
     "name": "stdout",
     "output_type": "stream",
     "text": [
      "{9: 0, 2: 2, 1: 1}\n"
     ]
    }
   ],
   "source": [
    "num_dict = {}\n",
    "num_dict[9] = 0 \n",
    "num_dict[2] = 2\n",
    "num_dict[1] = 1\n",
    "print(num_dict)"
   ]
  },
  {
   "cell_type": "code",
   "execution_count": 69,
   "metadata": {},
   "outputs": [
    {
     "name": "stdout",
     "output_type": "stream",
     "text": [
      "0 2\n",
      "1 7\n",
      "2 11\n",
      "3 15\n"
     ]
    }
   ],
   "source": [
    "nums = [2, 7, 11, 15]\n",
    "target = 13\n",
    "num_dict = {}\n",
    "for i, num in enumerate(nums):\n",
    "    print(i,num)\n",
    "    complement = target - num\n",
    "   \n",
    "    \n",
    "    if complement in num_dict:\n",
    "        a=10\n",
    "    num_dict[num] = i\n",
    "    \n",
    "    "
   ]
  },
  {
   "cell_type": "code",
   "execution_count": null,
   "metadata": {},
   "outputs": [],
   "source": [
    "class Solution:\n",
    "    def twoSum(self,nums,target):\n",
    "        num_dict={}\n",
    "        for i,num in enumerate(nums):\n",
    "            complement=target-num\n",
    "            if complement in num_dict:\n",
    "                return[num_dict[complement,i]]\n",
    "\n",
    "\n",
    "    solution=Solution()\n",
    "    nums =[2,7,11,15]\n",
    "    target =13\n",
    "    print(solution.twoSum(nums,target))\n"
   ]
  },
  {
   "cell_type": "code",
   "execution_count": 12,
   "metadata": {},
   "outputs": [
    {
     "name": "stdout",
     "output_type": "stream",
     "text": [
      "Index: 0, Fruit: apple\n",
      "Index: 1, Fruit: banana\n",
      "Index: 2, Fruit: cherry\n",
      "2\n"
     ]
    }
   ],
   "source": [
    "fruits = ['apple', 'banana', 'cherry']\n",
    "\n",
    "# 使用 enumerate 遍历列表\n",
    "for index, fruit in enumerate(fruits):\n",
    "    print(f\"Index: {index}, Fruit: {fruit}\")\n",
    "print(index)"
   ]
  },
  {
   "cell_type": "code",
   "execution_count": 60,
   "metadata": {},
   "outputs": [
    {
     "name": "stdout",
     "output_type": "stream",
     "text": [
      "[0, 2]\n",
      "Solution name: Example Solution\n"
     ]
    }
   ],
   "source": [
    "class Solution:\n",
    "    def __init__(self, name):\n",
    "        self.name = name  # 这是一个实例属性\n",
    "    \n",
    "    def twoSum(self, nums, target):\n",
    "        num_dict = {}\n",
    "        \n",
    "        for i, num in enumerate(nums):\n",
    "            complement = target - num\n",
    "            if complement in num_dict:\n",
    "                return [num_dict[complement], i]\n",
    "            num_dict[num] = i\n",
    "        \n",
    "        return []  # No solution found\n",
    "    \n",
    "    def display_name(self):\n",
    "        # 使用 self 访问实例属性\n",
    "        print(\"Solution name:\", self.name)\n",
    "\n",
    "# 创建 Solution 类的一个实例\n",
    "solution = Solution(\"Example Solution\")\n",
    "\n",
    "# 调用 twoSum 方法\n",
    "nums = [2, 7, 11, 15]\n",
    "target = 13\n",
    "print(solution.twoSum(nums, target))  # 输出: [0, 2]\n",
    "\n",
    "# 调用 display_name 方法\n",
    "solution.display_name()  # 输出: Solution name: Example Solution"
   ]
  }
 ],
 "metadata": {
  "kernelspec": {
   "display_name": "Python 3",
   "language": "python",
   "name": "python3"
  },
  "language_info": {
   "codemirror_mode": {
    "name": "ipython",
    "version": 3
   },
   "file_extension": ".py",
   "mimetype": "text/x-python",
   "name": "python",
   "nbconvert_exporter": "python",
   "pygments_lexer": "ipython3",
   "version": "3.12.3"
  }
 },
 "nbformat": 4,
 "nbformat_minor": 2
}
