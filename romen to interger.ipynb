{
 "cells": [
  {
   "cell_type": "code",
   "execution_count": 9,
   "metadata": {},
   "outputs": [
    {
     "name": "stdout",
     "output_type": "stream",
     "text": [
      "3\n",
      "5\n",
      "9\n",
      "58\n",
      "1994\n"
     ]
    }
   ],
   "source": [
    "class Solution(object):\n",
    "    def romanToInt(self, s):\n",
    "        \"\"\"\n",
    "        :type s: str\n",
    "        :rtype: int\n",
    "        \"\"\"\n",
    "        # 定义罗马数字符号和对应的整数值的字典\n",
    "        roman_to_int = {\n",
    "            'I': 1,\n",
    "            'V': 5,\n",
    "            'X': 10,\n",
    "            'L': 50,\n",
    "            'C': 100,\n",
    "            'D': 500,\n",
    "            'M': 1000\n",
    "        }\n",
    "        \n",
    "        total = 0  # 存储最终的整数值\n",
    "        prev_value = 0  # 存储前一个罗马数字的整数值\n",
    "        \n",
    "        # 反向遍历罗马数字字符串\n",
    "        for char in reversed(s):\n",
    "            current_value = roman_to_int[char]  # 获取当前罗马数字的整数值\n",
    "            \n",
    "            if current_value >= prev_value:\n",
    "                total += current_value  # 如果当前值大于等于前一个值，则加上当前值\n",
    "            else:\n",
    "                total -= current_value  # 如果当前值小于前一个值，则减去当前值\n",
    "            \n",
    "            prev_value = current_value  # 更新前一个值为当前值\n",
    "        \n",
    "        return total\n",
    "\n",
    "# 测试例子\n",
    "solution = Solution()\n",
    "print(solution.romanToInt('III'))     # 输出: 3\n",
    "print(solution.romanToInt('IV'))      # 输出: 4\n",
    "print(solution.romanToInt('IX'))      # 输出: 9\n",
    "print(solution.romanToInt('LVIII'))   # 输出: 58\n",
    "print(solution.romanToInt('MCMXCIV')) # 输出: 1994\n"
   ]
  },
  {
   "cell_type": "code",
   "execution_count": 8,
   "metadata": {},
   "outputs": [
    {
     "name": "stdout",
     "output_type": "stream",
     "text": [
      "V\n",
      "5\n",
      "I\n",
      "1\n",
      "I\n",
      "1\n"
     ]
    }
   ],
   "source": [
    "roman_to_int = {\n",
    "            'I': 1,\n",
    "            'V': 5,\n",
    "            'X': 10,\n",
    "            'L': 50,\n",
    "            'C': 100,\n",
    "            'D': 500,\n",
    "            'M': 1000\n",
    "}\n",
    "s='IIV'\n",
    "for char in reversed(s):\n",
    "    current_value = roman_to_int[char]\n",
    "    print(char)\n",
    "    print(current_value)"
   ]
  }
 ],
 "metadata": {
  "kernelspec": {
   "display_name": "Python 3",
   "language": "python",
   "name": "python3"
  },
  "language_info": {
   "codemirror_mode": {
    "name": "ipython",
    "version": 3
   },
   "file_extension": ".py",
   "mimetype": "text/x-python",
   "name": "python",
   "nbconvert_exporter": "python",
   "pygments_lexer": "ipython3",
   "version": "3.12.3"
  }
 },
 "nbformat": 4,
 "nbformat_minor": 2
}
