{
 "cells": [
  {
   "cell_type": "code",
   "execution_count": 14,
   "metadata": {},
   "outputs": [
    {
     "name": "stdout",
     "output_type": "stream",
     "text": [
      "1\n",
      "2\n",
      "3\n",
      "4\n",
      "<__main__.ListNode object at 0x0000013C556E0980>\n",
      "True\n",
      "1\n",
      "2\n",
      "3\n",
      "4\n",
      "False\n"
     ]
    }
   ],
   "source": [
    "class ListNode:\n",
    "    def __init__(self, x):\n",
    "        self.val = x\n",
    "        self.next = None\n",
    "\n",
    "class Solution:\n",
    "    def hasCycle(self, head: ListNode) -> bool:\n",
    "        if not head or not head.next:\n",
    "            return False\n",
    "        \n",
    "        slow = head\n",
    "        fast = head.next\n",
    "        \n",
    "        while slow != fast:\n",
    "            if not fast or not fast.next:\n",
    "                return False\n",
    "            slow = slow.next\n",
    "            fast = fast.next.next\n",
    "        \n",
    "        return True\n",
    "\n",
    "# 辅助函数用于创建链表和测试\n",
    "def create_linked_list_with_cycle(values, pos):\n",
    "    head = ListNode(values[0])\n",
    "    current = head\n",
    "    cycle_node = None if pos == -1 else head\n",
    "    \n",
    "    for index in range(1, len(values)):\n",
    "        print(index)\n",
    "        current.next = ListNode(values[index])\n",
    "        current = current.next\n",
    "        if index == pos:\n",
    "            cycle_node = current\n",
    "    \n",
    "    if cycle_node:\n",
    "        print(cycle_node)\n",
    "        current.next = cycle_node\n",
    "    \n",
    "    return head\n",
    "\n",
    "# 测试例子\n",
    "solution = Solution()\n",
    "\n",
    "# 创建一个带环的链表：1 -> 2 -> 3 -> 4 -> 5 -> 2 (pos = 1)\n",
    "values = [1, 2, 3, 4, 5]\n",
    "pos = 1\n",
    "head = create_linked_list_with_cycle(values, pos)\n",
    "print(solution.hasCycle(head))  # 输出: True\n",
    "\n",
    "# 创建一个不带环的链表：1 -> 2 -> 3 -> 4 -> 5\n",
    "values = [1, 2, 3, 4, 5]\n",
    "pos = -1\n",
    "head = create_linked_list_with_cycle(values, pos)\n",
    "print(solution.hasCycle(head))  # 输出: False\n"
   ]
  },
  {
   "cell_type": "code",
   "execution_count": 12,
   "metadata": {},
   "outputs": [
    {
     "ename": "TypeError",
     "evalue": "ListNode() takes no arguments",
     "output_type": "error",
     "traceback": [
      "\u001b[1;31m---------------------------------------------------------------------------\u001b[0m",
      "\u001b[1;31mTypeError\u001b[0m                                 Traceback (most recent call last)",
      "Cell \u001b[1;32mIn[12], line 7\u001b[0m\n\u001b[0;32m      4\u001b[0m         \u001b[38;5;28mself\u001b[39m\u001b[38;5;241m.\u001b[39mnext \u001b[38;5;241m=\u001b[39m \u001b[38;5;28;01mNone\u001b[39;00m\n\u001b[0;32m      6\u001b[0m \u001b[38;5;66;03m# 创建三个节点\u001b[39;00m\n\u001b[1;32m----> 7\u001b[0m node1 \u001b[38;5;241m=\u001b[39m \u001b[43mListNode\u001b[49m\u001b[43m(\u001b[49m\u001b[38;5;241;43m1\u001b[39;49m\u001b[43m)\u001b[49m\n\u001b[0;32m      8\u001b[0m node2 \u001b[38;5;241m=\u001b[39m ListNode(\u001b[38;5;241m2\u001b[39m)\n\u001b[0;32m      9\u001b[0m node3 \u001b[38;5;241m=\u001b[39m ListNode(\u001b[38;5;241m3\u001b[39m)\n",
      "\u001b[1;31mTypeError\u001b[0m: ListNode() takes no arguments"
     ]
    }
   ],
   "source": [
    "class ListNode:\n",
    "    def __init__(self, x):\n",
    "        self.val = x\n",
    "        self.next = None\n",
    "\n",
    "# 创建三个节点\n",
    "node1 = ListNode(1)\n",
    "node2 = ListNode(2)\n",
    "node3 = ListNode(3)\n",
    "\n",
    "\n",
    "# 将节点链接在一起形成链表\n",
    "node1.next = node2\n",
    "node2.next = node3\n",
    "node3.next =\n",
    "\n",
    "# 打印链表\n",
    "current = node1\n",
    "while current:\n",
    "    print(current.val)  # 输出节点的值\n",
    "    current = current.next  # 移动到下一个节点\n"
   ]
  }
 ],
 "metadata": {
  "kernelspec": {
   "display_name": "Python 3",
   "language": "python",
   "name": "python3"
  },
  "language_info": {
   "codemirror_mode": {
    "name": "ipython",
    "version": 3
   },
   "file_extension": ".py",
   "mimetype": "text/x-python",
   "name": "python",
   "nbconvert_exporter": "python",
   "pygments_lexer": "ipython3",
   "version": "3.12.3"
  }
 },
 "nbformat": 4,
 "nbformat_minor": 2
}
