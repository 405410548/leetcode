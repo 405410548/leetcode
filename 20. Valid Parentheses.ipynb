{
 "cells": [
  {
   "cell_type": "code",
   "execution_count": 45,
   "metadata": {},
   "outputs": [
    {
     "name": "stdout",
     "output_type": "stream",
     "text": [
      "[]\n",
      "False\n",
      "[]\n",
      "['(']\n",
      "[]\n",
      "['[']\n",
      "[]\n",
      "['{']\n",
      "True\n",
      "[]\n",
      "['(']\n",
      "False\n",
      "[]\n",
      "['(']\n",
      "['(', '[']\n",
      "False\n",
      "[]\n",
      "['{']\n",
      "['{', '[']\n",
      "['{']\n",
      "True\n"
     ]
    }
   ],
   "source": [
    "class Solution(object):\n",
    "    def isValid(self, s):\n",
    "        \"\"\"\n",
    "        :type s: str\n",
    "        :rtype: bool\n",
    "        \"\"\"\n",
    "        # 定义括号的配对关系\n",
    "        bracket_map = {')': '(', '}': '{', ']': '['}\n",
    "        stack = []\n",
    "          \n",
    "        for char in s:\n",
    "            # 如果是右括号，检查栈顶是否为对应的左括号\n",
    "            \n",
    "            print(stack)\n",
    "            if char in bracket_map:\n",
    "                top_element = stack.pop() \n",
    "                \n",
    "                if bracket_map[char] != top_element:\n",
    "                    return False\n",
    "            else:\n",
    "                # 如果是左括号，压入栈中\n",
    "                stack.append(char)\n",
    "\n",
    "        # 栈为空说明所有括号都匹配\n",
    "        return not stack\n",
    "\n",
    "# 测试例子\n",
    "solution = Solution()\n",
    "print(solution.isValid(\"(\"))      # 输出: True\n",
    "print(solution.isValid(\"()[]{}\"))  # 输出: True\n",
    "print(solution.isValid(\"(]\"))      # 输出: False\n",
    "print(solution.isValid(\"([)]\"))    # 输出: False\n",
    "print(solution.isValid(\"{[]}\"))    # 输出: True\n"
   ]
  },
  {
   "cell_type": "code",
   "execution_count": 36,
   "metadata": {},
   "outputs": [
    {
     "name": "stdout",
     "output_type": "stream",
     "text": [
      "[\n"
     ]
    }
   ],
   "source": [
    "# 定义括号映射字典\n",
    "bracket_map = {')': '(', '}': '{', ']': '['}\n",
    "char='('\n",
    "if char in bracket_map:\n",
    "    print(\"123\")\n",
    "\n",
    "# 尝试访问字典中的键值\n",
    "print(bracket_map[']'])  # 输出: (\n",
    "\n",
    "    \n",
    "\n",
    "\n"
   ]
  },
  {
   "cell_type": "code",
   "execution_count": 2,
   "metadata": {},
   "outputs": [
    {
     "name": "stdout",
     "output_type": "stream",
     "text": [
      "Input string: ()[]{}\n",
      "Step 1: Processing '('\n",
      "  Found opening bracket '(', pushing to stack.\n",
      "  Stack state: ['(']\n",
      "Step 2: Processing ')'\n",
      "  Found closing bracket ')'.\n",
      "  Top element in stack: '('\n",
      "  Match found: ')' matches '('\n",
      "  Stack state: []\n",
      "Step 3: Processing '['\n",
      "  Found opening bracket '[', pushing to stack.\n",
      "  Stack state: ['[']\n",
      "Step 4: Processing ']'\n",
      "  Found closing bracket ']'.\n",
      "  Top element in stack: '['\n",
      "  Match found: ']' matches '['\n",
      "  Stack state: []\n",
      "Step 5: Processing '{'\n",
      "  Found opening bracket '{', pushing to stack.\n",
      "  Stack state: ['{']\n",
      "Step 6: Processing '}'\n",
      "  Found closing bracket '}'.\n",
      "  Top element in stack: '{'\n",
      "  Match found: '}' matches '{'\n",
      "  Stack state: []\n",
      "Final stack state: []\n",
      "String is valid: True\n",
      "Result: True\n"
     ]
    }
   ],
   "source": [
    "class Solution(object):\n",
    "    def isValid(self, s):\n",
    "        \"\"\"\n",
    "        :type s: str\n",
    "        :rtype: bool\n",
    "        \"\"\"\n",
    "        # 定义括号的配对关系\n",
    "        bracket_map = {')': '(', '}': '{', ']': '['}\n",
    "        stack = []\n",
    "        \n",
    "        print(f\"Input string: {s}\")\n",
    "        \n",
    "        for i, char in enumerate(s):\n",
    "            print(f\"Step {i + 1}: Processing '{char}'\")\n",
    "            if char in bracket_map:\n",
    "                top_element = stack.pop() if stack else '#'\n",
    "                print(f\"  Found closing bracket '{char}'.\")\n",
    "                print(f\"  Top element in stack: '{top_element}'\")\n",
    "                if bracket_map[char] != top_element:\n",
    "                    print(f\"  Mismatch found: expected '{bracket_map[char]}', but found '{top_element}'\")\n",
    "                    return False\n",
    "                else:\n",
    "                    print(f\"  Match found: '{char}' matches '{top_element}'\")\n",
    "            else:\n",
    "                stack.append(char)\n",
    "                print(f\"  Found opening bracket '{char}', pushing to stack.\")\n",
    "            \n",
    "            print(f\"  Stack state: {stack}\")\n",
    "        \n",
    "        is_valid = not stack\n",
    "        print(f\"Final stack state: {stack}\")\n",
    "        print(f\"String is valid: {is_valid}\")\n",
    "        return is_valid\n",
    "\n",
    "# 测试例子\n",
    "solution = Solution()\n",
    "print(\"Result:\", solution.isValid(\"()[]{}\"))  # 输出: True"
   ]
  },
  {
   "cell_type": "code",
   "execution_count": 3,
   "metadata": {},
   "outputs": [
    {
     "name": "stdout",
     "output_type": "stream",
     "text": [
      "Input string: {[]}\n",
      "Step 1: Processing '{'\n",
      "  Found opening bracket '{', pushing to stack.\n",
      "  Stack state: ['{']\n",
      "Step 2: Processing '['\n",
      "  Found opening bracket '[', pushing to stack.\n",
      "  Stack state: ['{', '[']\n",
      "Step 3: Processing ']'\n",
      "  Found closing bracket ']'.\n",
      "  Top element in stack: '['\n",
      "  Match found: ']' matches '['\n",
      "  Stack state: ['{']\n",
      "Step 4: Processing '}'\n",
      "  Found closing bracket '}'.\n",
      "  Top element in stack: '{'\n",
      "  Match found: '}' matches '{'\n",
      "  Stack state: []\n",
      "Final stack state: []\n",
      "String is valid: True\n",
      "Result: True\n"
     ]
    }
   ],
   "source": [
    "class Solution(object):\n",
    "    def isValid(self, s):\n",
    "        \"\"\"\n",
    "        :type s: str\n",
    "        :rtype: bool\n",
    "        \"\"\"\n",
    "        # 定义括号的配对关系\n",
    "        bracket_map = {')': '(', '}': '{', ']': '['}\n",
    "        stack = []\n",
    "        \n",
    "        print(f\"Input string: {s}\")\n",
    "        \n",
    "        for i, char in enumerate(s):\n",
    "            print(f\"Step {i + 1}: Processing '{char}'\")\n",
    "            if char in bracket_map:\n",
    "                top_element = stack.pop() if stack else '#'\n",
    "                print(f\"  Found closing bracket '{char}'.\")\n",
    "                print(f\"  Top element in stack: '{top_element}'\")\n",
    "                if bracket_map[char] != top_element:\n",
    "                    print(f\"  Mismatch found: expected '{bracket_map[char]}', but found '{top_element}'\")\n",
    "                    return False\n",
    "                else:\n",
    "                    print(f\"  Match found: '{char}' matches '{top_element}'\")\n",
    "            else:\n",
    "                stack.append(char)\n",
    "                print(f\"  Found opening bracket '{char}', pushing to stack.\")\n",
    "            \n",
    "            print(f\"  Stack state: {stack}\")\n",
    "        \n",
    "        is_valid = not stack\n",
    "        print(f\"Final stack state: {stack}\")\n",
    "        print(f\"String is valid: {is_valid}\")\n",
    "        return is_valid\n",
    "\n",
    "# 测试例子\n",
    "solution = Solution()\n",
    "print(\"Result:\", solution.isValid(\"{[]}\"))  # 输出: True\n"
   ]
  },
  {
   "cell_type": "code",
   "execution_count": 15,
   "metadata": {},
   "outputs": [
    {
     "name": "stdout",
     "output_type": "stream",
     "text": [
      "['{[]}', 2, 3]\n",
      "3\n",
      "2\n",
      "{[]}\n",
      "[]\n"
     ]
    }
   ],
   "source": [
    "stack = []\n",
    "\n",
    "# 压入元素\n",
    "stack.append(\"{[]}\")\n",
    "stack.append(2)\n",
    "stack.append(3)\n",
    "\n",
    "print(stack)  # 输出: [1, 2, 3]\n",
    "\n",
    "# 弹出元素\n",
    "print(stack.pop())  # 输出: 3\n",
    "print(stack.pop())  # 输出: 2\n",
    "print(stack.pop())  # 输出: 1\n",
    "\n",
    "print(stack)  # 输出: []"
   ]
  },
  {
   "cell_type": "code",
   "execution_count": 41,
   "metadata": {},
   "outputs": [
    {
     "name": "stdout",
     "output_type": "stream",
     "text": [
      "Top element (from empty stack): #\n",
      "Stack after pushing elements: ['(', '{', '[']\n",
      "Popped element: [\n",
      "Stack after popping one element: ['(', '{']\n"
     ]
    }
   ],
   "source": [
    "stack = []\n",
    "\n",
    "# 尝试从空栈中弹出元素\n",
    "if stack:\n",
    "    top_element = stack.pop()\n",
    "else:\n",
    "    top_element = '#'\n",
    "print(f\"Top element (from empty stack): {top_element}\")  # 输出: '#'\n",
    "\n",
    "# 向栈中添加元素\n",
    "stack.append('(')\n",
    "stack.append('{')\n",
    "stack.append('[')\n",
    "print(f\"Stack after pushing elements: {stack}\")  # 输出: ['(', '{', '[']\n",
    "\n",
    "# 从栈中弹出元素\n",
    "if stack:\n",
    "    top_element = stack.pop()\n",
    "else:\n",
    "    top_element = '#'\n",
    "print(f\"Popped element: {top_element}\")  # 输出: '['\n",
    "print(f\"Stack after popping one element: {stack}\")  # 输出: ['(', '{']\n"
   ]
  },
  {
   "cell_type": "code",
   "execution_count": null,
   "metadata": {},
   "outputs": [],
   "source": [
    "class Solution(object):\n",
    "    def isValid(self,s):\n",
    "        map={')':'(','}':'{',']':'['}\n",
    "        stack=[]\n",
    "        for char in s:\n",
    "            if char in map:\n",
    "                top_element=stack.pop()\n",
    "                if map[char]!=top_element:\n",
    "                    return False\n",
    "            else :\n",
    "                stack.append(char)\n",
    "        return True\n",
    "\n"
   ]
  }
 ],
 "metadata": {
  "kernelspec": {
   "display_name": "Python 3",
   "language": "python",
   "name": "python3"
  },
  "language_info": {
   "codemirror_mode": {
    "name": "ipython",
    "version": 3
   },
   "file_extension": ".py",
   "mimetype": "text/x-python",
   "name": "python",
   "nbconvert_exporter": "python",
   "pygments_lexer": "ipython3",
   "version": "3.12.3"
  }
 },
 "nbformat": 4,
 "nbformat_minor": 2
}
