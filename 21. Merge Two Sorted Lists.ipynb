{
 "cells": [
  {
   "cell_type": "code",
   "execution_count": 4,
   "metadata": {},
   "outputs": [
    {
     "name": "stdout",
     "output_type": "stream",
     "text": [
      "Output: [1, 1, 2, 3, 4, 4, 6, 6, 6, 6, 8, 9]\n"
     ]
    }
   ],
   "source": [
    "# Definition for singly-linked list.\n",
    "class ListNode(object):\n",
    "    def __init__(self, val=0, next=None):\n",
    "        self.val = val\n",
    "        self.next = next\n",
    "\n",
    "class Solution(object):\n",
    "    def mergeTwoLists(self, list1, list2):\n",
    "        \"\"\"\n",
    "        :type list1: Optional[ListNode]\n",
    "        :type list2: Optional[ListNode]\n",
    "        :rtype: Optional[ListNode]\n",
    "        \"\"\"\n",
    "        # Create a dummy node to act as the start of the merged list\n",
    "        dummy = ListNode()\n",
    "        current = dummy\n",
    "\n",
    "        # Traverse both lists and compare their values\n",
    "        while list1 and list2:\n",
    "            if list1.val < list2.val:\n",
    "                current.next = list1\n",
    "                list1 = list1.next\n",
    "            else:\n",
    "                current.next = list2\n",
    "                list2 = list2.next\n",
    "            current = current.next\n",
    "\n",
    "        # If one of the lists is not empty, append it to the merged list\n",
    "        if list1:\n",
    "            current.next = list1\n",
    "        elif list2:\n",
    "            current.next = list2\n",
    "\n",
    "        # The merged list is next to the dummy node\n",
    "        return dummy.next\n",
    "\n",
    "def list_to_python_list(node):\n",
    "    \"\"\"Helper function to convert the linked list to a Python list.\"\"\"\n",
    "    result = []\n",
    "    while node:\n",
    "        result.append(node.val)\n",
    "        node = node.next\n",
    "    return result\n",
    "\n",
    "def create_list(values):\n",
    "    \"\"\"Helper function to create a linked list from a list of values.\"\"\"\n",
    "    if not values:\n",
    "        return None\n",
    "    head = ListNode(values[0])\n",
    "    current = head\n",
    "    for val in values[1:]:\n",
    "        current.next = ListNode(val)\n",
    "        current = current.next\n",
    "    return head\n",
    "\n",
    "# Test cases\n",
    "def test_merge_two_lists():\n",
    "    # Create test lists\n",
    "    list1 = create_list([1, 2, 4])\n",
    "    list2 = create_list([1, 3, 4])\n",
    "    \n",
    "    # Merge lists\n",
    "    solution = Solution()\n",
    "    merged_list = solution.mergeTwoLists(list1, list2)\n",
    "    \n",
    "    # Convert the result to a Python list and print it\n",
    "    result_list = list_to_python_list(merged_list)\n",
    "    print(\"Output:\", result_list)\n",
    "\n",
    "# Run the test\n",
    "test_merge_two_lists()\n"
   ]
  }
 ],
 "metadata": {
  "kernelspec": {
   "display_name": "Python 3",
   "language": "python",
   "name": "python3"
  },
  "language_info": {
   "codemirror_mode": {
    "name": "ipython",
    "version": 3
   },
   "file_extension": ".py",
   "mimetype": "text/x-python",
   "name": "python",
   "nbconvert_exporter": "python",
   "pygments_lexer": "ipython3",
   "version": "3.12.3"
  }
 },
 "nbformat": 4,
 "nbformat_minor": 2
}
